{
 "cells": [
  {
   "cell_type": "code",
   "execution_count": 21,
   "id": "f3aec9bf",
   "metadata": {},
   "outputs": [],
   "source": [
    "from lingpy.evaluate.acd import _get_bcubed_score as bcs\n",
    "import os\n",
    "import pandas as pd"
   ]
  },
  {
   "cell_type": "code",
   "execution_count": 22,
   "id": "bfeb83d7",
   "metadata": {},
   "outputs": [],
   "source": [
    "def scores(a,b):\n",
    "    p, r = bcs(a, b), bcs(b, a)\n",
    "    if p + r != 0:\n",
    "        f = 2 * (p * r) / (p + r)\n",
    "    else:\n",
    "        f = 0\n",
    "    \n",
    "    return p, r, f"
   ]
  },
  {
   "cell_type": "code",
   "execution_count": 23,
   "id": "d37e3386",
   "metadata": {},
   "outputs": [],
   "source": [
    "root_pth = 'evolaemp-svmcc-98d9fd0/data/inferred/'"
   ]
  },
  {
   "cell_type": "code",
   "execution_count": 29,
   "id": "3ba455e3",
   "metadata": {},
   "outputs": [],
   "source": [
    "TRAIN_SETS = ['bai', 'chinese_2004', 'japanese', 'ob_ugrian', 'an_train', 'iel_train']\n",
    "\n",
    "TEST_SETS = ['st', 'tujia', 'aa', 'huon', 'ie_test', 'chinese_1964', 'ura', 'pn', 'an_test', 'rom', 'bah']"
   ]
  },
  {
   "cell_type": "code",
   "execution_count": 30,
   "id": "b50e2ffe",
   "metadata": {},
   "outputs": [
    {
     "name": "stdout",
     "output_type": "stream",
     "text": [
      "SplitID\tBCPrec\tBCRec\tBCF\tSinoTibetan\tTujia\tAustroAsiatic\tHuon\tIndoEuropean\tChinese\tUralic\tPamaNyungan\tAustronesian\tRomance\tBahnaric\n",
      "0\t0.839\t0.841\t0.832\t0.59\t0.925\t0.767\t0.878\t0.824\t0.852\t0.906\t0.777\t0.837\t0.93\t0.869\n",
      "1\t0.823\t0.867\t0.837\t0.558\t0.913\t0.782\t0.909\t0.827\t0.836\t0.917\t0.788\t0.839\t0.941\t0.895\n",
      "2\t0.829\t0.858\t0.835\t0.556\t0.939\t0.788\t0.894\t0.841\t0.841\t0.913\t0.775\t0.828\t0.92\t0.887\n",
      "3\t0.834\t0.854\t0.837\t0.593\t0.92\t0.784\t0.89\t0.823\t0.83\t0.928\t0.766\t0.856\t0.939\t0.882\n",
      "4\t0.852\t0.831\t0.833\t0.589\t0.94\t0.772\t0.874\t0.827\t0.829\t0.908\t0.769\t0.841\t0.946\t0.873\n"
     ]
    }
   ],
   "source": [
    "lines = [\"SplitID\\tBCPrec\\tBCRec\\tBCF\\tSinoTibetan\\tTujia\\tAustroAsiatic\\tHuon\\tIndoEuropean\\tChinese\\tUralic\\tPamaNyungan\\tAustronesian\\tRomance\\tBahnaric\"]\n",
    "N = len(TEST_SETS)\n",
    "for split in range(5):\n",
    "    pr = 0.0\n",
    "    re = 0.0\n",
    "    bcf = 0.0\n",
    "    lngs = []\n",
    "    for file in TEST_SETS:\n",
    "        fname = f\"{file}_prop_50_{split}_test.svmCC.csv\"\n",
    "        pth = os.path.join(root_pth,fname)\n",
    "        df = pd.read_csv(pth)\n",
    "        p, r, f = scores(df['cc'], df['inferredCC'])\n",
    "        pr += p\n",
    "        re += r\n",
    "        bcf += f\n",
    "        lngs.append(f)\n",
    "    line = [pr/N, re/N, bcf/N] + lngs\n",
    "    line = [str(split)]+[str(round(n,3)) for n in line]\n",
    "    lines.append('\\t'.join(line))\n",
    "        \n",
    "print('\\n'.join(lines))"
   ]
  },
  {
   "cell_type": "code",
   "execution_count": null,
   "id": "a8755ee7",
   "metadata": {},
   "outputs": [],
   "source": []
  }
 ],
 "metadata": {
  "kernelspec": {
   "display_name": "Python 3 (ipykernel)",
   "language": "python",
   "name": "python3"
  },
  "language_info": {
   "codemirror_mode": {
    "name": "ipython",
    "version": 3
   },
   "file_extension": ".py",
   "mimetype": "text/x-python",
   "name": "python",
   "nbconvert_exporter": "python",
   "pygments_lexer": "ipython3",
   "version": "3.9.12"
  }
 },
 "nbformat": 4,
 "nbformat_minor": 5
}
